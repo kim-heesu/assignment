{
  "nbformat": 4,
  "nbformat_minor": 0,
  "metadata": {
    "colab": {
      "provenance": [],
      "authorship_tag": "ABX9TyMOyKe+y8OOeInblXa9nk5I",
      "include_colab_link": true
    },
    "kernelspec": {
      "name": "python3",
      "display_name": "Python 3"
    },
    "language_info": {
      "name": "python"
    }
  },
  "cells": [
    {
      "cell_type": "markdown",
      "metadata": {
        "id": "view-in-github",
        "colab_type": "text"
      },
      "source": [
        "<a href=\"https://colab.research.google.com/github/kim-heesu/assignment/blob/main/%EA%B0%84%EB%8B%A8%ED%95%9C%ED%94%84%EB%A1%9C%EA%B7%B8%EB%9E%A8%EA%B3%BC%EC%A0%9C.ipynb\" target=\"_parent\"><img src=\"https://colab.research.google.com/assets/colab-badge.svg\" alt=\"Open In Colab\"/></a>"
      ]
    },
    {
      "cell_type": "markdown",
      "source": [
        "2. 입력받은 섭씨온도를 화씨온도로 변환하는 프로그램\n"
      ],
      "metadata": {
        "id": "4RzpfJUYuqB1"
      }
    },
    {
      "cell_type": "code",
      "execution_count": 23,
      "metadata": {
        "colab": {
          "base_uri": "https://localhost:8080/"
        },
        "id": "IKp0Qg8uuRhZ",
        "outputId": "7aca38b4-4475-46a5-8752-755fadd28a66"
      },
      "outputs": [
        {
          "output_type": "stream",
          "name": "stdout",
          "text": [
            "섭씨온도를 입력해주세요.33\n",
            "33.0 를 화씨온도로 변환하면 91.4 입니다\n"
          ]
        }
      ],
      "source": [
        "celsius = float(input(\"섭씨온도를 입력해주세요.\"))\n",
        "fahrenheit = (9/5) * celsius + 32\n",
        "print(celsius,\"를 화씨온도로 변환하면\",fahrenheit,\"입니다\")"
      ]
    },
    {
      "cell_type": "markdown",
      "source": [
        "3. 사용자로부터 10진수를 입력받아 2진수로 변환하는 프로그램\n"
      ],
      "metadata": {
        "id": "PKrMqOZHx83b"
      }
    },
    {
      "cell_type": "code",
      "source": [
        "decimal = int(input(\"10진수를 입력하면 2진수로 변환됩니다.\"))\n",
        "binaryList = []\n",
        "\n",
        "# 입력값 decimal이 1이상일떄까지 반복\n",
        "while decimal >= 1 :\n",
        "    # 입력값을 2로 나눴을때 나머지\n",
        "    remainder = decimal % 2\n",
        "\n",
        "    # 입력값을 2로 나눴을때 몫 (정수나눗셈)\n",
        "    quotient = decimal // 2\n",
        "\n",
        "    # decimal 변수에 몫을 저장\n",
        "    decimal = quotient\n",
        "\n",
        "    # 나머지를 binaryList 배열에 추가\n",
        "    binaryList.append(remainder)\n",
        "\n",
        "# 계산된 나머지 리스트들을 반대로 출력\n",
        "for binary in reversed(binaryList) :\n",
        "    print(binary , end=\"\")\n",
        ""
      ],
      "metadata": {
        "colab": {
          "base_uri": "https://localhost:8080/"
        },
        "id": "k1jsKJK8yBDs",
        "outputId": "19189bf2-4f05-44a9-ae8c-46788fbe6914"
      },
      "execution_count": 84,
      "outputs": [
        {
          "output_type": "stream",
          "name": "stdout",
          "text": [
            "10진수를 입력하면 2진수로 변환됩니다.378489234892\n",
            "101100000011111101101110110010111001100"
          ]
        }
      ]
    },
    {
      "cell_type": "markdown",
      "source": [],
      "metadata": {
        "id": "SX-YrRMKyAcK"
      }
    },
    {
      "cell_type": "markdown",
      "source": [
        "4. 1부터 10까지 더하는 총계산 문제 프로그램"
      ],
      "metadata": {
        "id": "8abOi4719OA-"
      }
    },
    {
      "cell_type": "code",
      "source": [
        "result = 0\n",
        "for index in range(1,11) :\n",
        "    result += index\n",
        "\n",
        "print('1부터 10까지 더한값은?',result)\n"
      ],
      "metadata": {
        "colab": {
          "base_uri": "https://localhost:8080/"
        },
        "id": "33zE3gx49RbG",
        "outputId": "277e3b9a-fab1-403a-8dd0-927e324dc345"
      },
      "execution_count": 120,
      "outputs": [
        {
          "output_type": "stream",
          "name": "stdout",
          "text": [
            "1부터 10까지 더한값은? 55\n"
          ]
        }
      ]
    }
  ]
}